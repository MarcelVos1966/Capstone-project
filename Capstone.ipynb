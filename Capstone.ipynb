{
 "cells": [
  {
   "cell_type": "markdown",
   "metadata": {},
   "source": [
    "<img src=\"https://avatars1.githubusercontent.com/u/51858420?s=400&v=4\" width=\"150\" align=\"Left\">\n",
    "\n",
    "<h2 align=\"center\"><span style="color:green">  <strong> Hello Capstone Project Course!</h1>"
   ]
  },
  {
   "cell_type": "markdown",
   "metadata": {},
   "source": [
    "- __This jupyter notebook will be mainly used for the Capstone project.__\n",
    "- __All the code in it will be used to pass complete the IBM Data Science Professional Certificate__"
   ]
  },
  {
   "cell_type": "markdown",
   "metadata": {},
   "source": [
    "> #### <span style=\"color:green\">  <strong> Assignment 1 :\n",
    "\n",
    "Create a new repository on your Github account and name it Coursera_Capstone. \n",
    "\n",
    "Start a Jupyter Notebook using any platform that you are comfortable with and do the following:\n",
    "\n",
    "    1. Write some markdown to explain that this notebook will be mainly used for the capstone project.\n",
    "    2. Import the pandas library as pd.\n",
    "    3. Import the Numpy library as np.\n",
    "    4. Print the following the statement: Hello Capstone Project Course!\n",
    "\n",
    "Push the Notebook to your Github repository and submit a link to the notebook on your Github repository."
   ]
  },
  {
   "cell_type": "code",
   "execution_count": null,
   "metadata": {},
   "outputs": [],
   "source": [
    "# Import Libraries\n",
    "import pandas as pd\n",
    "import numpy  as np"
   ]
  }
 ],
 "metadata": {
  "kernelspec": {
   "display_name": "Python 3",
   "language": "python",
   "name": "python3"
  },
  "language_info": {
   "codemirror_mode": {
    "name": "ipython",
    "version": 3
   },
   "file_extension": ".py",
   "mimetype": "text/x-python",
   "name": "python",
   "nbconvert_exporter": "python",
   "pygments_lexer": "ipython3",
   "version": "3.7.3"
  }
 },
 "nbformat": 4,
 "nbformat_minor": 2
}
